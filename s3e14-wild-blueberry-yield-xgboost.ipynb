{
 "cells": [
  {
   "cell_type": "code",
   "execution_count": 1,
   "id": "23dc0a41",
   "metadata": {
    "execution": {
     "iopub.execute_input": "2023-05-12T00:57:31.154695Z",
     "iopub.status.busy": "2023-05-12T00:57:31.154320Z",
     "iopub.status.idle": "2023-05-12T00:57:31.309429Z",
     "shell.execute_reply": "2023-05-12T00:57:31.308141Z"
    },
    "papermill": {
     "duration": 0.163543,
     "end_time": "2023-05-12T00:57:31.312258",
     "exception": false,
     "start_time": "2023-05-12T00:57:31.148715",
     "status": "completed"
    },
    "tags": []
   },
   "outputs": [
    {
     "name": "stdout",
     "output_type": "stream",
     "text": [
      "['clonesize', 'honeybee', 'bumbles', 'andrena', 'osmia', 'MaxOfUpperTRange', 'MinOfUpperTRange', 'AverageOfUpperTRange', 'MaxOfLowerTRange', 'MinOfLowerTRange', 'AverageOfLowerTRange']\n"
     ]
    }
   ],
   "source": [
    "import numpy as np\n",
    "import pandas as pd\n",
    "\n",
    "train = pd.read_csv('/kaggle/input/playground-series-s3e14/train.csv', index_col='id')\n",
    "test = pd.read_csv('/kaggle/input/playground-series-s3e14/test.csv', index_col='id')\n",
    "\n",
    "X = train.copy()\n",
    "y = train['yield']\n",
    "\n",
    "#exclude bee-related and 'TRange' data from training data\n",
    "features_excluded = list(train.columns)[:11]\n",
    "print(features_excluded)\n",
    "X.drop(features_excluded, axis=1, inplace=True)\n",
    "X.drop(['yield'], axis=1, inplace=True)\n",
    "test.drop(features_excluded, axis=1, inplace=True)"
   ]
  },
  {
   "cell_type": "code",
   "execution_count": 2,
   "id": "664bbba4",
   "metadata": {
    "execution": {
     "iopub.execute_input": "2023-05-12T00:57:31.322032Z",
     "iopub.status.busy": "2023-05-12T00:57:31.321647Z",
     "iopub.status.idle": "2023-05-12T00:57:31.348960Z",
     "shell.execute_reply": "2023-05-12T00:57:31.346871Z"
    },
    "papermill": {
     "duration": 0.034356,
     "end_time": "2023-05-12T00:57:31.351606",
     "exception": false,
     "start_time": "2023-05-12T00:57:31.317250",
     "status": "completed"
    },
    "tags": []
   },
   "outputs": [
    {
     "data": {
      "text/html": [
       "<div>\n",
       "<style scoped>\n",
       "    .dataframe tbody tr th:only-of-type {\n",
       "        vertical-align: middle;\n",
       "    }\n",
       "\n",
       "    .dataframe tbody tr th {\n",
       "        vertical-align: top;\n",
       "    }\n",
       "\n",
       "    .dataframe thead th {\n",
       "        text-align: right;\n",
       "    }\n",
       "</style>\n",
       "<table border=\"1\" class=\"dataframe\">\n",
       "  <thead>\n",
       "    <tr style=\"text-align: right;\">\n",
       "      <th></th>\n",
       "      <th>RainingDays</th>\n",
       "      <th>AverageRainingDays</th>\n",
       "      <th>fruitset</th>\n",
       "      <th>fruitmass</th>\n",
       "      <th>seeds</th>\n",
       "    </tr>\n",
       "    <tr>\n",
       "      <th>id</th>\n",
       "      <th></th>\n",
       "      <th></th>\n",
       "      <th></th>\n",
       "      <th></th>\n",
       "      <th></th>\n",
       "    </tr>\n",
       "  </thead>\n",
       "  <tbody>\n",
       "    <tr>\n",
       "      <th>0</th>\n",
       "      <td>24.0</td>\n",
       "      <td>0.39</td>\n",
       "      <td>0.425011</td>\n",
       "      <td>0.417545</td>\n",
       "      <td>32.460887</td>\n",
       "    </tr>\n",
       "    <tr>\n",
       "      <th>1</th>\n",
       "      <td>24.0</td>\n",
       "      <td>0.39</td>\n",
       "      <td>0.444908</td>\n",
       "      <td>0.422051</td>\n",
       "      <td>33.858317</td>\n",
       "    </tr>\n",
       "    <tr>\n",
       "      <th>2</th>\n",
       "      <td>24.0</td>\n",
       "      <td>0.39</td>\n",
       "      <td>0.552927</td>\n",
       "      <td>0.470853</td>\n",
       "      <td>38.341781</td>\n",
       "    </tr>\n",
       "    <tr>\n",
       "      <th>3</th>\n",
       "      <td>24.0</td>\n",
       "      <td>0.39</td>\n",
       "      <td>0.565976</td>\n",
       "      <td>0.478137</td>\n",
       "      <td>39.467561</td>\n",
       "    </tr>\n",
       "    <tr>\n",
       "      <th>4</th>\n",
       "      <td>24.0</td>\n",
       "      <td>0.39</td>\n",
       "      <td>0.579677</td>\n",
       "      <td>0.494165</td>\n",
       "      <td>40.484512</td>\n",
       "    </tr>\n",
       "  </tbody>\n",
       "</table>\n",
       "</div>"
      ],
      "text/plain": [
       "    RainingDays  AverageRainingDays  fruitset  fruitmass      seeds\n",
       "id                                                                 \n",
       "0          24.0                0.39  0.425011   0.417545  32.460887\n",
       "1          24.0                0.39  0.444908   0.422051  33.858317\n",
       "2          24.0                0.39  0.552927   0.470853  38.341781\n",
       "3          24.0                0.39  0.565976   0.478137  39.467561\n",
       "4          24.0                0.39  0.579677   0.494165  40.484512"
      ]
     },
     "execution_count": 2,
     "metadata": {},
     "output_type": "execute_result"
    }
   ],
   "source": [
    "X.head()"
   ]
  },
  {
   "cell_type": "code",
   "execution_count": 3,
   "id": "c6974b5b",
   "metadata": {
    "execution": {
     "iopub.execute_input": "2023-05-12T00:57:31.360269Z",
     "iopub.status.busy": "2023-05-12T00:57:31.359837Z",
     "iopub.status.idle": "2023-05-12T00:58:34.703009Z",
     "shell.execute_reply": "2023-05-12T00:58:34.702040Z"
    },
    "papermill": {
     "duration": 63.350707,
     "end_time": "2023-05-12T00:58:34.705855",
     "exception": false,
     "start_time": "2023-05-12T00:57:31.355148",
     "status": "completed"
    },
    "tags": []
   },
   "outputs": [
    {
     "name": "stderr",
     "output_type": "stream",
     "text": [
      "/opt/conda/lib/python3.10/site-packages/scipy/__init__.py:146: UserWarning: A NumPy version >=1.16.5 and <1.23.0 is required for this version of SciPy (detected version 1.23.5\n",
      "  warnings.warn(f\"A NumPy version >={np_minversion} and <{np_maxversion}\"\n"
     ]
    }
   ],
   "source": [
    "from xgboost import XGBRegressor\n",
    "from sklearn.metrics import mean_absolute_error\n",
    "from sklearn.model_selection import cross_val_score\n",
    "\n",
    "#determine optimal number of estimators\n",
    "\n",
    "def mae_score(n_estimators):\n",
    "    model = XGBRegressor(random_state=1, n_estimators=n_estimators, learning_rate=.04)\n",
    "    \n",
    "    score = -1 * cross_val_score(model, X, y,\n",
    "                              cv=5,\n",
    "                              scoring='neg_mean_absolute_error')\n",
    "    return score.mean()\n",
    "\n",
    "trees = [100,150,200,250,300,350,400,500]\n",
    "\n",
    "results = {}\n",
    "for i in trees:\n",
    "    results[i] = mae_score(i)\n",
    "\n",
    "\n",
    "# mae = mean_absolute_error(predict, y_valid)\n",
    "# print('MAE: ' + str(mae))"
   ]
  },
  {
   "cell_type": "code",
   "execution_count": 4,
   "id": "b89698ae",
   "metadata": {
    "execution": {
     "iopub.execute_input": "2023-05-12T00:58:34.715669Z",
     "iopub.status.busy": "2023-05-12T00:58:34.715270Z",
     "iopub.status.idle": "2023-05-12T00:58:34.967647Z",
     "shell.execute_reply": "2023-05-12T00:58:34.966351Z"
    },
    "papermill": {
     "duration": 0.260297,
     "end_time": "2023-05-12T00:58:34.970418",
     "exception": false,
     "start_time": "2023-05-12T00:58:34.710121",
     "status": "completed"
    },
    "tags": []
   },
   "outputs": [
    {
     "data": {
      "image/png": "[encoded data removed]",
      "text/plain": [
       "<Figure size 640x480 with 1 Axes>"
      ]
     },
     "metadata": {},
     "output_type": "display_data"
    }
   ],
   "source": [
    "import matplotlib.pyplot as plt\n",
    "\n",
    "\n",
    "plt.plot(list(results.keys()), list(results.values()))\n",
    "plt.show()\n"
   ]
  },
  {
   "cell_type": "code",
   "execution_count": 5,
   "id": "6f501af5",
   "metadata": {
    "execution": {
     "iopub.execute_input": "2023-05-12T00:58:34.980868Z",
     "iopub.status.busy": "2023-05-12T00:58:34.980451Z",
     "iopub.status.idle": "2023-05-12T00:58:36.164828Z",
     "shell.execute_reply": "2023-05-12T00:58:36.163876Z"
    },
    "papermill": {
     "duration": 1.19346,
     "end_time": "2023-05-12T00:58:36.167985",
     "exception": false,
     "start_time": "2023-05-12T00:58:34.974525",
     "status": "completed"
    },
    "tags": []
   },
   "outputs": [],
   "source": [
    "#fit and predict using optimal number of estimators\n",
    "\n",
    "final_model = XGBRegressor(random_state=1, n_estimators=175, learning_rate=.04)\n",
    "final_model.fit(X,y)\n",
    "prediction = final_model.predict(test)"
   ]
  },
  {
   "cell_type": "code",
   "execution_count": 6,
   "id": "23ccb7d1",
   "metadata": {
    "execution": {
     "iopub.execute_input": "2023-05-12T00:58:36.179699Z",
     "iopub.status.busy": "2023-05-12T00:58:36.178842Z",
     "iopub.status.idle": "2023-05-12T00:58:36.225829Z",
     "shell.execute_reply": "2023-05-12T00:58:36.224394Z"
    },
    "papermill": {
     "duration": 0.056301,
     "end_time": "2023-05-12T00:58:36.228732",
     "exception": false,
     "start_time": "2023-05-12T00:58:36.172431",
     "status": "completed"
    },
    "tags": []
   },
   "outputs": [],
   "source": [
    "output = pd.DataFrame({'id': test.index,\n",
    "                       'yield': prediction})\n",
    "output.to_csv('submission_1.csv', index=False)"
   ]
  }
 ],
 "metadata": {
  "kernelspec": {
   "display_name": "Python 3",
   "language": "python",
   "name": "python3"
  },
  "language_info": {
   "codemirror_mode": {
    "name": "ipython",
    "version": 3
   },
   "file_extension": ".py",
   "mimetype": "text/x-python",
   "name": "python",
   "nbconvert_exporter": "python",
   "pygments_lexer": "ipython3",
   "version": "3.10.10"
  },
  "papermill": {
   "default_parameters": {},
   "duration": 79.738896,
   "end_time": "2023-05-12T00:58:37.256799",
   "environment_variables": {},
   "exception": null,
   "input_path": "__notebook__.ipynb",
   "output_path": "__notebook__.ipynb",
   "parameters": {},
   "start_time": "2023-05-12T00:57:17.517903",
   "version": "2.4.0"
  }
 },
 "nbformat": 4,
 "nbformat_minor": 5
}
